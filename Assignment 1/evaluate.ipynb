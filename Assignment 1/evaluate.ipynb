{
 "cells": [
  {
   "cell_type": "code",
   "execution_count": 30,
   "metadata": {},
   "outputs": [],
   "source": [
    "import pandas as pd\n",
    "import matplotlib.pyplot as plt\n",
    "import time"
   ]
  },
  {
   "cell_type": "code",
   "execution_count": 26,
   "metadata": {},
   "outputs": [],
   "source": [
    "# Step 1: Read the CSV file\n",
    "df = pd.read_csv('dataset/sudoku_dataset_1000.csv')\n",
    "\n",
    "# Step 2: Extract the desired column\n",
    "column_name = 'clues'\n",
    "selected_column = df[column_name]"
   ]
  },
  {
   "cell_type": "code",
   "execution_count": 27,
   "metadata": {},
   "outputs": [
    {
     "data": {
      "image/png": "[encoded data removed]",
      "text/plain": [
       "<Figure size 1000x600 with 1 Axes>"
      ]
     },
     "metadata": {},
     "output_type": "display_data"
    }
   ],
   "source": [
    "# Step 3: Plot the histogram\n",
    "plt.figure(figsize=(10, 6))  # Adjust the figure size as needed\n",
    "plt.hist(selected_column, bins=20, color='skyblue', edgecolor='black')  # Adjust bins as needed\n",
    "plt.title('Histogram of {}'.format(column_name))\n",
    "plt.xlabel(column_name)\n",
    "plt.ylabel('Frequency')\n",
    "plt.grid(True)\n",
    "plt.show()"
   ]
  },
  {
   "cell_type": "code",
   "execution_count": 28,
   "metadata": {},
   "outputs": [
    {
     "name": "stdout",
     "output_type": "stream",
     "text": [
      "[1, 0, 0, 5, 0, 3, 7, 0, 0]\n",
      "[6, 0, 3, 0, 0, 8, 0, 9, 0]\n",
      "[0, 0, 0, 0, 0, 9, 8, 0, 0]\n",
      "[0, 1, 0, 0, 0, 0, 0, 0, 0]\n",
      "[8, 7, 6, 1, 0, 0, 0, 0, 0]\n",
      "[0, 0, 0, 0, 0, 6, 0, 0, 0]\n",
      "[0, 0, 0, 0, 0, 0, 0, 0, 7]\n",
      "[0, 8, 0, 9, 0, 7, 6, 0, 4]\n",
      "[7, 0, 0, 0, 6, 0, 3, 1, 2]\n"
     ]
    }
   ],
   "source": [
    "# Given string\n",
    "input_string = df['puzzle'][0]\n",
    "\n",
    "# Function to convert string to 9x9 matrix\n",
    "def convert_to_matrix(input_string):\n",
    "    matrix = []\n",
    "    row = []\n",
    "    for char in input_string:\n",
    "        if char.isdigit():\n",
    "            row.append(int(char))\n",
    "            if len(row) == 9:\n",
    "                matrix.append(row)\n",
    "                row = []\n",
    "        else:\n",
    "            row.append(0)  # Using None for empty cells\n",
    "            if len(row) == 9:\n",
    "                matrix.append(row)\n",
    "                row = []\n",
    "    return matrix\n",
    "\n",
    "# Convert string to matrix\n",
    "sudoku_matrix = convert_to_matrix(input_string)\n",
    "\n",
    "# Print the matrix\n",
    "for row in sudoku_matrix:\n",
    "    print(row)\n"
   ]
  },
  {
   "cell_type": "code",
   "execution_count": 32,
   "metadata": {},
   "outputs": [],
   "source": [
    "from dfs import dfs_solver\n",
    "from ac3 import AC3_solver\n",
    "from mrv import mrv_solver\n",
    "from datetime import datetime"
   ]
  },
  {
   "cell_type": "code",
   "execution_count": 42,
   "metadata": {},
   "outputs": [
    {
     "name": "stdout",
     "output_type": "stream",
     "text": [
      "0.133121\n",
      "0.036658\n",
      "0.157309\n",
      "0.042561\n",
      "0.097379\n",
      "0.173083\n",
      "0.243078\n",
      "0.056396\n",
      "0.197874\n",
      "0.037284\n",
      "0.135371\n",
      "0.109179\n",
      "0.184834\n",
      "0.186028\n",
      "0.388158\n",
      "0.989631\n",
      "0.142886\n",
      "0.053947\n",
      "0.045902\n",
      "0.364968\n",
      "0.1296\n",
      "0.404907\n",
      "0.502744\n",
      "0.075629\n",
      "0.035017\n",
      "0.15645\n",
      "0.052517\n",
      "2.7814680000000003\n",
      "0.04002\n",
      "0.04194\n",
      "0.046555\n",
      "0.087104\n",
      "0.061704\n",
      "0.082436\n",
      "0.072649\n",
      "0.038515\n",
      "0.109089\n",
      "0.03853\n",
      "0.066112\n",
      "0.067781\n",
      "1.911428\n",
      "0.140151\n",
      "0.606293\n",
      "0.072651\n",
      "0.102751\n",
      "0.095426\n",
      "0.276071\n",
      "0.374536\n",
      "0.052071\n",
      "0.065845\n",
      "0.120336\n",
      "0.038431\n",
      "0.039042\n",
      "0.084534\n",
      "0.477688\n",
      "0.035134\n",
      "0.394929\n",
      "0.074698\n",
      "0.228889\n",
      "0.066957\n",
      "0.262622\n",
      "0.153866\n",
      "0.266761\n",
      "0.038911\n",
      "0.169088\n",
      "0.536703\n",
      "0.376022\n",
      "0.063812\n",
      "0.033424\n",
      "1.142711\n"
     ]
    }
   ],
   "source": [
    "total_time = []\n",
    "total_mem = 0\n",
    "for i in range(100):\n",
    "    sudoku_matrix = convert_to_matrix(df['puzzle'][i])\n",
    "    solved_board, elapsed_time_str, mem = mrv_solver(sudoku_matrix)\n",
    "    # Parse the time string\n",
    "    time_obj = datetime.strptime(elapsed_time_str, '%H:%M:%S.%f')\n",
    "\n",
    "# Convert time to seconds\n",
    "    total_seconds = (time_obj.hour * 3600) + (time_obj.minute * 60) + time_obj.second + (time_obj.microsecond / 1000000)\n",
    "    total_time.append(total_seconds)\n",
    "    # total_mem += mem\n",
    "    print(sum(total_seconds))"
   ]
  },
  {
   "cell_type": "code",
   "execution_count": 24,
   "metadata": {},
   "outputs": [
    {
     "ename": "KeyboardInterrupt",
     "evalue": "",
     "output_type": "error",
     "traceback": [
      "\u001b[1;31m---------------------------------------------------------------------------\u001b[0m",
      "\u001b[1;31mKeyboardInterrupt\u001b[0m                         Traceback (most recent call last)",
      "Cell \u001b[1;32mIn[24], line 6\u001b[0m\n\u001b[0;32m      4\u001b[0m \u001b[38;5;28;01mfor\u001b[39;00m i \u001b[38;5;129;01min\u001b[39;00m \u001b[38;5;28mrange\u001b[39m(\u001b[38;5;241m1000\u001b[39m):\n\u001b[0;32m      5\u001b[0m     sudoku_matrix \u001b[38;5;241m=\u001b[39m convert_to_matrix(df[\u001b[38;5;124m'\u001b[39m\u001b[38;5;124mpuzzle\u001b[39m\u001b[38;5;124m'\u001b[39m][i])\n\u001b[1;32m----> 6\u001b[0m     solved_board, elapsed_time_str, mem \u001b[38;5;241m=\u001b[39m \u001b[43mmrv_solver\u001b[49m\u001b[43m(\u001b[49m\u001b[43msudoku_matrix\u001b[49m\u001b[43m)\u001b[49m\n\u001b[0;32m      8\u001b[0m     \u001b[38;5;66;03m# Accumulate total time\u001b[39;00m\n\u001b[0;32m      9\u001b[0m     \u001b[38;5;66;03m# total_time_seconds += sum(map(int, elapsed_time_str.split(':')))  # Convert elapsed time string to seconds\u001b[39;00m\n\u001b[0;32m     10\u001b[0m     \n\u001b[0;32m     11\u001b[0m     \u001b[38;5;66;03m# Accumulate total memory usage\u001b[39;00m\n\u001b[0;32m     12\u001b[0m     total_mem \u001b[38;5;241m+\u001b[39m\u001b[38;5;241m=\u001b[39m \u001b[38;5;28msum\u001b[39m(mem)\n",
      "File \u001b[1;32md:\\HCMUT\\232\\IntroductionToAI\\AC3\\MY_SUDOKU\\mrv.py:128\u001b[0m, in \u001b[0;36mmrv_solver\u001b[1;34m(board, GUI)\u001b[0m\n\u001b[0;32m    126\u001b[0m begin_time \u001b[38;5;241m=\u001b[39m time\u001b[38;5;241m.\u001b[39mtime()\n\u001b[0;32m    127\u001b[0m tracemalloc\u001b[38;5;241m.\u001b[39mstart()\n\u001b[1;32m--> 128\u001b[0m solved_board \u001b[38;5;241m=\u001b[39m backtrack(board, GUI)\n\u001b[0;32m    129\u001b[0m memory_list\u001b[38;5;241m.\u001b[39mappend(tracemalloc\u001b[38;5;241m.\u001b[39mget_traced_memory()[\u001b[38;5;241m1\u001b[39m])\n\u001b[0;32m    130\u001b[0m tracemalloc\u001b[38;5;241m.\u001b[39mstop()\n",
      "File \u001b[1;32md:\\HCMUT\\232\\IntroductionToAI\\AC3\\MY_SUDOKU\\mrv.py:101\u001b[0m, in \u001b[0;36mbacktrack\u001b[1;34m(board, GUI)\u001b[0m\n\u001b[0;32m     99\u001b[0m \u001b[38;5;28;01mif\u001b[39;00m GUI:\n\u001b[0;32m    100\u001b[0m     GUI\u001b[38;5;241m.\u001b[39mupdate_single_grid_gui_square(i, j, \u001b[38;5;124m\"\u001b[39m\u001b[38;5;124mGreen\u001b[39m\u001b[38;5;124m\"\u001b[39m, x)\n\u001b[1;32m--> 101\u001b[0m \u001b[38;5;28;01mif\u001b[39;00m \u001b[43mbacktrack\u001b[49m\u001b[43m(\u001b[49m\u001b[43mboard\u001b[49m\u001b[43m,\u001b[49m\u001b[43m \u001b[49m\u001b[43mGUI\u001b[49m\u001b[43m)\u001b[49m:\n\u001b[0;32m    102\u001b[0m     \u001b[38;5;28;01mreturn\u001b[39;00m board\n\u001b[0;32m    103\u001b[0m board[i][j] \u001b[38;5;241m=\u001b[39m \u001b[38;5;241m0\u001b[39m\n",
      "File \u001b[1;32md:\\HCMUT\\232\\IntroductionToAI\\AC3\\MY_SUDOKU\\mrv.py:101\u001b[0m, in \u001b[0;36mbacktrack\u001b[1;34m(board, GUI)\u001b[0m\n\u001b[0;32m     99\u001b[0m \u001b[38;5;28;01mif\u001b[39;00m GUI:\n\u001b[0;32m    100\u001b[0m     GUI\u001b[38;5;241m.\u001b[39mupdate_single_grid_gui_square(i, j, \u001b[38;5;124m\"\u001b[39m\u001b[38;5;124mGreen\u001b[39m\u001b[38;5;124m\"\u001b[39m, x)\n\u001b[1;32m--> 101\u001b[0m \u001b[38;5;28;01mif\u001b[39;00m \u001b[43mbacktrack\u001b[49m\u001b[43m(\u001b[49m\u001b[43mboard\u001b[49m\u001b[43m,\u001b[49m\u001b[43m \u001b[49m\u001b[43mGUI\u001b[49m\u001b[43m)\u001b[49m:\n\u001b[0;32m    102\u001b[0m     \u001b[38;5;28;01mreturn\u001b[39;00m board\n\u001b[0;32m    103\u001b[0m board[i][j] \u001b[38;5;241m=\u001b[39m \u001b[38;5;241m0\u001b[39m\n",
      "    \u001b[1;31m[... skipping similar frames: backtrack at line 101 (21 times)]\u001b[0m\n",
      "File \u001b[1;32md:\\HCMUT\\232\\IntroductionToAI\\AC3\\MY_SUDOKU\\mrv.py:101\u001b[0m, in \u001b[0;36mbacktrack\u001b[1;34m(board, GUI)\u001b[0m\n\u001b[0;32m     99\u001b[0m \u001b[38;5;28;01mif\u001b[39;00m GUI:\n\u001b[0;32m    100\u001b[0m     GUI\u001b[38;5;241m.\u001b[39mupdate_single_grid_gui_square(i, j, \u001b[38;5;124m\"\u001b[39m\u001b[38;5;124mGreen\u001b[39m\u001b[38;5;124m\"\u001b[39m, x)\n\u001b[1;32m--> 101\u001b[0m \u001b[38;5;28;01mif\u001b[39;00m \u001b[43mbacktrack\u001b[49m\u001b[43m(\u001b[49m\u001b[43mboard\u001b[49m\u001b[43m,\u001b[49m\u001b[43m \u001b[49m\u001b[43mGUI\u001b[49m\u001b[43m)\u001b[49m:\n\u001b[0;32m    102\u001b[0m     \u001b[38;5;28;01mreturn\u001b[39;00m board\n\u001b[0;32m    103\u001b[0m board[i][j] \u001b[38;5;241m=\u001b[39m \u001b[38;5;241m0\u001b[39m\n",
      "File \u001b[1;32md:\\HCMUT\\232\\IntroductionToAI\\AC3\\MY_SUDOKU\\mrv.py:95\u001b[0m, in \u001b[0;36mbacktrack\u001b[1;34m(board, GUI)\u001b[0m\n\u001b[0;32m     92\u001b[0m \u001b[38;5;28;01mif\u001b[39;00m solution(board):\n\u001b[0;32m     93\u001b[0m     \u001b[38;5;28;01mreturn\u001b[39;00m board\n\u001b[1;32m---> 95\u001b[0m i, j, domain \u001b[38;5;241m=\u001b[39m \u001b[43mmrv_indices\u001b[49m\u001b[43m(\u001b[49m\u001b[43mboard\u001b[49m\u001b[43m)\u001b[49m\n\u001b[0;32m     96\u001b[0m \u001b[38;5;28;01mfor\u001b[39;00m x \u001b[38;5;129;01min\u001b[39;00m domain:\n\u001b[0;32m     97\u001b[0m     \u001b[38;5;28;01mif\u001b[39;00m validate(board, i, j, x):\n",
      "File \u001b[1;32md:\\HCMUT\\232\\IntroductionToAI\\AC3\\MY_SUDOKU\\mrv.py:57\u001b[0m, in \u001b[0;36mmrv_indices\u001b[1;34m(board)\u001b[0m\n\u001b[0;32m     55\u001b[0m     \u001b[38;5;28;01mfor\u001b[39;00m j \u001b[38;5;129;01min\u001b[39;00m \u001b[38;5;28mrange\u001b[39m(\u001b[38;5;241m9\u001b[39m):\n\u001b[0;32m     56\u001b[0m         \u001b[38;5;28;01mif\u001b[39;00m board[i][j] \u001b[38;5;241m==\u001b[39m \u001b[38;5;241m0\u001b[39m:\n\u001b[1;32m---> 57\u001b[0m             node_domain \u001b[38;5;241m=\u001b[39m \u001b[43mdomain\u001b[49m\u001b[43m(\u001b[49m\u001b[43mboard\u001b[49m\u001b[43m,\u001b[49m\u001b[43m \u001b[49m\u001b[43mi\u001b[49m\u001b[43m,\u001b[49m\u001b[43m \u001b[49m\u001b[43mj\u001b[49m\u001b[43m)\u001b[49m\n\u001b[0;32m     58\u001b[0m             heapq\u001b[38;5;241m.\u001b[39mheappush(heap, Node(\n\u001b[0;32m     59\u001b[0m                 \u001b[38;5;28mlen\u001b[39m(node_domain), node_domain, (i, j)))\n\u001b[0;32m     60\u001b[0m node: Node \u001b[38;5;241m=\u001b[39m heapq\u001b[38;5;241m.\u001b[39mheappop(heap)\n",
      "\u001b[1;31mKeyboardInterrupt\u001b[0m: "
     ]
    }
   ],
   "source": [
    "total_time_seconds = 0\n",
    "total_mem = 0\n",
    "\n",
    "for i in range(1000):\n",
    "    sudoku_matrix = convert_to_matrix(df['puzzle'][i])\n",
    "    solved_board, elapsed_time_str, mem = mrv_solver(sudoku_matrix)\n",
    "    \n",
    "    # Accumulate total time\n",
    "    # total_time_seconds += sum(map(int, elapsed_time_str.split(':')))  # Convert elapsed time string to seconds\n",
    "    \n",
    "    # Accumulate total memory usage\n",
    "    total_mem += sum(mem)\n",
    "\n",
    "# Print total time and total memory usage\n",
    "print(\"Total time (seconds):\", total_time_seconds)\n",
    "print(\"Total memory usage:\", total_mem)\n"
   ]
  },
  {
   "cell_type": "code",
   "execution_count": null,
   "metadata": {},
   "outputs": [],
   "source": []
  }
 ],
 "metadata": {
  "kernelspec": {
   "display_name": "Python 3",
   "language": "python",
   "name": "python3"
  },
  "language_info": {
   "codemirror_mode": {
    "name": "ipython",
    "version": 3
   },
   "file_extension": ".py",
   "mimetype": "text/x-python",
   "name": "python",
   "nbconvert_exporter": "python",
   "pygments_lexer": "ipython3",
   "version": "3.10.11"
  }
 },
 "nbformat": 4,
 "nbformat_minor": 2
}
